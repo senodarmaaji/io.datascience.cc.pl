{
 "cells": [
  {
   "cell_type": "code",
   "execution_count": 2,
   "id": "ff0b173e",
   "metadata": {},
   "outputs": [],
   "source": [
    "import pandas as pd"
   ]
  },
  {
   "cell_type": "code",
   "execution_count": 3,
   "id": "4577e158",
   "metadata": {},
   "outputs": [],
   "source": [
    "data = {\n",
    "    \"calories\": [420, 450, 380],\n",
    "    \"duration\": [50, 40, 45]    \n",
    "}"
   ]
  },
  {
   "cell_type": "code",
   "execution_count": 4,
   "id": "74ec51bf",
   "metadata": {},
   "outputs": [],
   "source": [
    "df = pd.DataFrame(data)"
   ]
  },
  {
   "cell_type": "code",
   "execution_count": 5,
   "id": "1880d2dd",
   "metadata": {},
   "outputs": [
    {
     "name": "stdout",
     "output_type": "stream",
     "text": [
      "   calories  duration\n",
      "0       420        50\n",
      "1       450        40\n",
      "2       380        45\n"
     ]
    }
   ],
   "source": [
    "print(df)"
   ]
  },
  {
   "cell_type": "code",
   "execution_count": 6,
   "id": "73575c1a",
   "metadata": {},
   "outputs": [
    {
     "name": "stdout",
     "output_type": "stream",
     "text": [
      "calories    420\n",
      "duration     50\n",
      "Name: 0, dtype: int64\n"
     ]
    }
   ],
   "source": [
    "print(df.loc[0])"
   ]
  },
  {
   "cell_type": "code",
   "execution_count": 7,
   "id": "eedc91bd",
   "metadata": {},
   "outputs": [
    {
     "name": "stdout",
     "output_type": "stream",
     "text": [
      "calories    450\n",
      "duration     40\n",
      "Name: 1, dtype: int64\n"
     ]
    }
   ],
   "source": [
    "print(df.loc[1])"
   ]
  },
  {
   "cell_type": "code",
   "execution_count": 8,
   "id": "dada287f",
   "metadata": {},
   "outputs": [
    {
     "name": "stdout",
     "output_type": "stream",
     "text": [
      "calories    380\n",
      "duration     45\n",
      "Name: 2, dtype: int64\n"
     ]
    }
   ],
   "source": [
    "print(df.loc[2])"
   ]
  },
  {
   "cell_type": "markdown",
   "id": "0403504b",
   "metadata": {},
   "source": [
    "#LETS BEGIN"
   ]
  },
  {
   "cell_type": "code",
   "execution_count": 9,
   "id": "bc672081",
   "metadata": {},
   "outputs": [],
   "source": [
    "import pandas as pd"
   ]
  },
  {
   "cell_type": "code",
   "execution_count": 10,
   "id": "0f36ccd1",
   "metadata": {},
   "outputs": [],
   "source": [
    "sample_data = {\n",
    "    \"Weekdays\": [\"Monday\", \"Tuesday\", \"Wednesday\"],\n",
    "    \"test_score\": [10, 20, 30]\n",
    "}"
   ]
  },
  {
   "cell_type": "code",
   "execution_count": 11,
   "id": "7a7f4c0e",
   "metadata": {},
   "outputs": [],
   "source": [
    "df = pd.DataFrame(sample_data)"
   ]
  },
  {
   "cell_type": "code",
   "execution_count": 12,
   "id": "b79ab69c",
   "metadata": {},
   "outputs": [
    {
     "data": {
      "text/html": [
       "<div>\n",
       "<style scoped>\n",
       "    .dataframe tbody tr th:only-of-type {\n",
       "        vertical-align: middle;\n",
       "    }\n",
       "\n",
       "    .dataframe tbody tr th {\n",
       "        vertical-align: top;\n",
       "    }\n",
       "\n",
       "    .dataframe thead th {\n",
       "        text-align: right;\n",
       "    }\n",
       "</style>\n",
       "<table border=\"1\" class=\"dataframe\">\n",
       "  <thead>\n",
       "    <tr style=\"text-align: right;\">\n",
       "      <th></th>\n",
       "      <th>Weekdays</th>\n",
       "      <th>test_score</th>\n",
       "    </tr>\n",
       "  </thead>\n",
       "  <tbody>\n",
       "    <tr>\n",
       "      <th>0</th>\n",
       "      <td>Monday</td>\n",
       "      <td>10</td>\n",
       "    </tr>\n",
       "    <tr>\n",
       "      <th>1</th>\n",
       "      <td>Tuesday</td>\n",
       "      <td>20</td>\n",
       "    </tr>\n",
       "    <tr>\n",
       "      <th>2</th>\n",
       "      <td>Wednesday</td>\n",
       "      <td>30</td>\n",
       "    </tr>\n",
       "  </tbody>\n",
       "</table>\n",
       "</div>"
      ],
      "text/plain": [
       "    Weekdays  test_score\n",
       "0     Monday          10\n",
       "1    Tuesday          20\n",
       "2  Wednesday          30"
      ]
     },
     "execution_count": 12,
     "metadata": {},
     "output_type": "execute_result"
    }
   ],
   "source": [
    "df"
   ]
  },
  {
   "cell_type": "code",
   "execution_count": 14,
   "id": "85317fa8",
   "metadata": {},
   "outputs": [
    {
     "data": {
      "text/plain": [
       "Weekdays      Monday\n",
       "test_score        10\n",
       "Name: 0, dtype: object"
      ]
     },
     "execution_count": 14,
     "metadata": {},
     "output_type": "execute_result"
    }
   ],
   "source": [
    "df.loc[0]"
   ]
  },
  {
   "cell_type": "code",
   "execution_count": 15,
   "id": "f79d9211",
   "metadata": {},
   "outputs": [
    {
     "data": {
      "text/plain": [
       "Weekdays      Tuesday\n",
       "test_score         20\n",
       "Name: 1, dtype: object"
      ]
     },
     "execution_count": 15,
     "metadata": {},
     "output_type": "execute_result"
    }
   ],
   "source": [
    "df.loc[1]"
   ]
  },
  {
   "cell_type": "code",
   "execution_count": 16,
   "id": "28eb779e",
   "metadata": {},
   "outputs": [
    {
     "data": {
      "text/plain": [
       "Weekdays      Wednesday\n",
       "test_score           30\n",
       "Name: 2, dtype: object"
      ]
     },
     "execution_count": 16,
     "metadata": {},
     "output_type": "execute_result"
    }
   ],
   "source": [
    "df.loc[2]"
   ]
  },
  {
   "cell_type": "markdown",
   "id": "4e260a58",
   "metadata": {},
   "source": [
    "#Import CSV Data"
   ]
  },
  {
   "cell_type": "code",
   "execution_count": 17,
   "id": "afe790c3",
   "metadata": {},
   "outputs": [],
   "source": [
    "import pandas as pd"
   ]
  },
  {
   "cell_type": "code",
   "execution_count": 32,
   "id": "5db89f2a",
   "metadata": {},
   "outputs": [
    {
     "name": "stdout",
     "output_type": "stream",
     "text": [
      "Requirement already satisfied: pandas in c:\\users\\seno d\\anaconda3\\lib\\site-packages (1.5.3)\n",
      "Collecting pandas\n",
      "  Downloading pandas-2.0.2-cp310-cp310-win_amd64.whl (10.7 MB)\n",
      "     ---------------------------------------- 10.7/10.7 MB 2.0 MB/s eta 0:00:00\n",
      "Requirement already satisfied: python-dateutil>=2.8.2 in c:\\users\\seno d\\anaconda3\\lib\\site-packages (from pandas) (2.8.2)\n",
      "Requirement already satisfied: numpy>=1.21.0 in c:\\users\\seno d\\anaconda3\\lib\\site-packages (from pandas) (1.23.5)\n",
      "Requirement already satisfied: pytz>=2020.1 in c:\\users\\seno d\\anaconda3\\lib\\site-packages (from pandas) (2022.7)\n",
      "Collecting tzdata>=2022.1\n",
      "  Downloading tzdata-2023.3-py2.py3-none-any.whl (341 kB)\n",
      "     -------------------------------------- 341.8/341.8 kB 1.8 MB/s eta 0:00:00\n",
      "Requirement already satisfied: six>=1.5 in c:\\users\\seno d\\anaconda3\\lib\\site-packages (from python-dateutil>=2.8.2->pandas) (1.16.0)\n",
      "Installing collected packages: tzdata, pandas\n",
      "  Attempting uninstall: pandas\n",
      "    Found existing installation: pandas 1.5.3\n",
      "    Uninstalling pandas-1.5.3:\n",
      "      Successfully uninstalled pandas-1.5.3\n",
      "Successfully installed pandas-2.0.2 tzdata-2023.3\n",
      "Note: you may need to restart the kernel to use updated packages.\n"
     ]
    }
   ],
   "source": [
    "pip install --upgrade pandas"
   ]
  },
  {
   "cell_type": "code",
   "execution_count": 33,
   "id": "1446f353",
   "metadata": {},
   "outputs": [],
   "source": [
    "import pandas as pd"
   ]
  },
  {
   "cell_type": "code",
   "execution_count": 34,
   "id": "46d7893f",
   "metadata": {},
   "outputs": [
    {
     "name": "stdout",
     "output_type": "stream",
     "text": [
      "1.5.3\n"
     ]
    }
   ],
   "source": [
    "print(pd.__version__)"
   ]
  },
  {
   "cell_type": "code",
   "execution_count": 36,
   "id": "c330d88c",
   "metadata": {},
   "outputs": [],
   "source": [
    "df = pd.read_csv('5.1 airport.csv', encoding='utf-8')"
   ]
  },
  {
   "cell_type": "code",
   "execution_count": 37,
   "id": "f5da86ee",
   "metadata": {},
   "outputs": [
    {
     "data": {
      "text/html": [
       "<div>\n",
       "<style scoped>\n",
       "    .dataframe tbody tr th:only-of-type {\n",
       "        vertical-align: middle;\n",
       "    }\n",
       "\n",
       "    .dataframe tbody tr th {\n",
       "        vertical-align: top;\n",
       "    }\n",
       "\n",
       "    .dataframe thead th {\n",
       "        text-align: right;\n",
       "    }\n",
       "</style>\n",
       "<table border=\"1\" class=\"dataframe\">\n",
       "  <thead>\n",
       "    <tr style=\"text-align: right;\">\n",
       "      <th></th>\n",
       "      <th>id</th>\n",
       "      <th>ident</th>\n",
       "      <th>type</th>\n",
       "      <th>name</th>\n",
       "      <th>latitude_deg</th>\n",
       "      <th>longitude_deg</th>\n",
       "      <th>elevation_ft</th>\n",
       "      <th>iso_region</th>\n",
       "      <th>municipality</th>\n",
       "      <th>scheduled_service</th>\n",
       "      <th>gps_code</th>\n",
       "      <th>iata_code</th>\n",
       "      <th>local_code</th>\n",
       "      <th>year_built</th>\n",
       "      <th>year_tier</th>\n",
       "      <th>Closed</th>\n",
       "      <th>home_link</th>\n",
       "      <th>wikipedia_link</th>\n",
       "      <th>keywords</th>\n",
       "      <th>score</th>\n",
       "    </tr>\n",
       "  </thead>\n",
       "  <tbody>\n",
       "    <tr>\n",
       "      <th>0</th>\n",
       "      <td>26555</td>\n",
       "      <td>VIDP</td>\n",
       "      <td>large_airport</td>\n",
       "      <td>Indira Gandhi International Airport</td>\n",
       "      <td>28.566500</td>\n",
       "      <td>77.103104</td>\n",
       "      <td>777.0</td>\n",
       "      <td>IN-DL</td>\n",
       "      <td>New Delhi</td>\n",
       "      <td>1</td>\n",
       "      <td>VIDP</td>\n",
       "      <td>DEL</td>\n",
       "      <td>NaN</td>\n",
       "      <td>1930.0</td>\n",
       "      <td>1950.0</td>\n",
       "      <td>n</td>\n",
       "      <td>http://www.newdelhiairport.in/</td>\n",
       "      <td>http://en.wikipedia.org/wiki/Indira_Gandhi_Int...</td>\n",
       "      <td>Palam Air Force Station</td>\n",
       "      <td>51475</td>\n",
       "    </tr>\n",
       "    <tr>\n",
       "      <th>1</th>\n",
       "      <td>26434</td>\n",
       "      <td>VABB</td>\n",
       "      <td>large_airport</td>\n",
       "      <td>Chhatrapati Shivaji International Airport</td>\n",
       "      <td>19.088699</td>\n",
       "      <td>72.867897</td>\n",
       "      <td>39.0</td>\n",
       "      <td>IN-MM</td>\n",
       "      <td>Mumbai</td>\n",
       "      <td>1</td>\n",
       "      <td>VABB</td>\n",
       "      <td>BOM</td>\n",
       "      <td>NaN</td>\n",
       "      <td>1942.0</td>\n",
       "      <td>1950.0</td>\n",
       "      <td>n</td>\n",
       "      <td>http://www.csia.in/</td>\n",
       "      <td>http://en.wikipedia.org/wiki/Chhatrapati_Shiva...</td>\n",
       "      <td>Bombay, Sahar International Airport</td>\n",
       "      <td>1014475</td>\n",
       "    </tr>\n",
       "    <tr>\n",
       "      <th>2</th>\n",
       "      <td>26618</td>\n",
       "      <td>VOMM</td>\n",
       "      <td>large_airport</td>\n",
       "      <td>Chennai International Airport</td>\n",
       "      <td>12.990005</td>\n",
       "      <td>80.169296</td>\n",
       "      <td>52.0</td>\n",
       "      <td>IN-TN</td>\n",
       "      <td>Chennai</td>\n",
       "      <td>1</td>\n",
       "      <td>VOMM</td>\n",
       "      <td>MAA</td>\n",
       "      <td>NaN</td>\n",
       "      <td>1910.0</td>\n",
       "      <td>1950.0</td>\n",
       "      <td>n</td>\n",
       "      <td>NaN</td>\n",
       "      <td>http://en.wikipedia.org/wiki/Chennai_Internati...</td>\n",
       "      <td>NaN</td>\n",
       "      <td>51150</td>\n",
       "    </tr>\n",
       "    <tr>\n",
       "      <th>3</th>\n",
       "      <td>35145</td>\n",
       "      <td>VOBL</td>\n",
       "      <td>large_airport</td>\n",
       "      <td>Kempegowda International Airport</td>\n",
       "      <td>13.197900</td>\n",
       "      <td>77.706299</td>\n",
       "      <td>3000.0</td>\n",
       "      <td>IN-KA</td>\n",
       "      <td>Bangalore</td>\n",
       "      <td>1</td>\n",
       "      <td>VOBL</td>\n",
       "      <td>BLR</td>\n",
       "      <td>NaN</td>\n",
       "      <td>2008.0</td>\n",
       "      <td>2010.0</td>\n",
       "      <td>n</td>\n",
       "      <td>http://www.bengaluruairport.com/home/home.jspx</td>\n",
       "      <td>https://en.wikipedia.org/wiki/Kempegowda_Inter...</td>\n",
       "      <td>NaN</td>\n",
       "      <td>51200</td>\n",
       "    </tr>\n",
       "    <tr>\n",
       "      <th>4</th>\n",
       "      <td>26444</td>\n",
       "      <td>VAGO</td>\n",
       "      <td>large_airport</td>\n",
       "      <td>Goa International Airport</td>\n",
       "      <td>15.380800</td>\n",
       "      <td>73.831398</td>\n",
       "      <td>150.0</td>\n",
       "      <td>IN-GA</td>\n",
       "      <td>Vasco da Gama</td>\n",
       "      <td>1</td>\n",
       "      <td>VOGO</td>\n",
       "      <td>GOI</td>\n",
       "      <td>NaN</td>\n",
       "      <td>1955.0</td>\n",
       "      <td>1955.0</td>\n",
       "      <td>n</td>\n",
       "      <td>NaN</td>\n",
       "      <td>http://en.wikipedia.org/wiki/Dabolim_Airport</td>\n",
       "      <td>Goa Airport, Dabolim Navy Airbase, ________隷怄_...</td>\n",
       "      <td>875</td>\n",
       "    </tr>\n",
       "    <tr>\n",
       "      <th>...</th>\n",
       "      <td>...</td>\n",
       "      <td>...</td>\n",
       "      <td>...</td>\n",
       "      <td>...</td>\n",
       "      <td>...</td>\n",
       "      <td>...</td>\n",
       "      <td>...</td>\n",
       "      <td>...</td>\n",
       "      <td>...</td>\n",
       "      <td>...</td>\n",
       "      <td>...</td>\n",
       "      <td>...</td>\n",
       "      <td>...</td>\n",
       "      <td>...</td>\n",
       "      <td>...</td>\n",
       "      <td>...</td>\n",
       "      <td>...</td>\n",
       "      <td>...</td>\n",
       "      <td>...</td>\n",
       "      <td>...</td>\n",
       "    </tr>\n",
       "    <tr>\n",
       "      <th>332</th>\n",
       "      <td>46625</td>\n",
       "      <td>IN-0062</td>\n",
       "      <td>small_airport</td>\n",
       "      <td>Shirpur Airport</td>\n",
       "      <td>21.323999</td>\n",
       "      <td>74.956734</td>\n",
       "      <td>NaN</td>\n",
       "      <td>IN-MM</td>\n",
       "      <td>Shirpur</td>\n",
       "      <td>0</td>\n",
       "      <td>NaN</td>\n",
       "      <td>NaN</td>\n",
       "      <td>NaN</td>\n",
       "      <td>NaN</td>\n",
       "      <td>NaN</td>\n",
       "      <td>n</td>\n",
       "      <td>NaN</td>\n",
       "      <td>NaN</td>\n",
       "      <td>Shirpur, Dhule</td>\n",
       "      <td>0</td>\n",
       "    </tr>\n",
       "    <tr>\n",
       "      <th>333</th>\n",
       "      <td>46640</td>\n",
       "      <td>IN-0064</td>\n",
       "      <td>small_airport</td>\n",
       "      <td>Umaria Air Field</td>\n",
       "      <td>23.532514</td>\n",
       "      <td>80.808220</td>\n",
       "      <td>1510.0</td>\n",
       "      <td>IN-MP</td>\n",
       "      <td>Umaria</td>\n",
       "      <td>0</td>\n",
       "      <td>NaN</td>\n",
       "      <td>NaN</td>\n",
       "      <td>NaN</td>\n",
       "      <td>NaN</td>\n",
       "      <td>NaN</td>\n",
       "      <td>n</td>\n",
       "      <td>NaN</td>\n",
       "      <td>NaN</td>\n",
       "      <td>NaN</td>\n",
       "      <td>0</td>\n",
       "    </tr>\n",
       "    <tr>\n",
       "      <th>334</th>\n",
       "      <td>46561</td>\n",
       "      <td>IN-0038</td>\n",
       "      <td>heliport</td>\n",
       "      <td>Upper Tadong Indian Army Helipad</td>\n",
       "      <td>27.306717</td>\n",
       "      <td>88.599650</td>\n",
       "      <td>NaN</td>\n",
       "      <td>IN-SK</td>\n",
       "      <td>Upper Tadong</td>\n",
       "      <td>0</td>\n",
       "      <td>NaN</td>\n",
       "      <td>NaN</td>\n",
       "      <td>NaN</td>\n",
       "      <td>NaN</td>\n",
       "      <td>NaN</td>\n",
       "      <td>n</td>\n",
       "      <td>NaN</td>\n",
       "      <td>NaN</td>\n",
       "      <td>NaN</td>\n",
       "      <td>0</td>\n",
       "    </tr>\n",
       "    <tr>\n",
       "      <th>335</th>\n",
       "      <td>319166</td>\n",
       "      <td>IN-0101</td>\n",
       "      <td>small_airport</td>\n",
       "      <td>Vanasthali Airport</td>\n",
       "      <td>26.407627</td>\n",
       "      <td>75.870128</td>\n",
       "      <td>NaN</td>\n",
       "      <td>IN-RJ</td>\n",
       "      <td>Vanasthali</td>\n",
       "      <td>0</td>\n",
       "      <td>NaN</td>\n",
       "      <td>NaN</td>\n",
       "      <td>NaN</td>\n",
       "      <td>NaN</td>\n",
       "      <td>NaN</td>\n",
       "      <td>n</td>\n",
       "      <td>NaN</td>\n",
       "      <td>NaN</td>\n",
       "      <td>NaN</td>\n",
       "      <td>0</td>\n",
       "    </tr>\n",
       "    <tr>\n",
       "      <th>336</th>\n",
       "      <td>46557</td>\n",
       "      <td>IN-0034</td>\n",
       "      <td>small_airport</td>\n",
       "      <td>Vijay Nagar Airport</td>\n",
       "      <td>19.884100</td>\n",
       "      <td>73.840567</td>\n",
       "      <td>NaN</td>\n",
       "      <td>IN-MM</td>\n",
       "      <td>Vijay Nagar</td>\n",
       "      <td>0</td>\n",
       "      <td>NaN</td>\n",
       "      <td>NaN</td>\n",
       "      <td>NaN</td>\n",
       "      <td>NaN</td>\n",
       "      <td>NaN</td>\n",
       "      <td>n</td>\n",
       "      <td>NaN</td>\n",
       "      <td>NaN</td>\n",
       "      <td>NaN</td>\n",
       "      <td>0</td>\n",
       "    </tr>\n",
       "  </tbody>\n",
       "</table>\n",
       "<p>337 rows × 20 columns</p>\n",
       "</div>"
      ],
      "text/plain": [
       "         id    ident           type  \\\n",
       "0     26555     VIDP  large_airport   \n",
       "1     26434     VABB  large_airport   \n",
       "2     26618     VOMM  large_airport   \n",
       "3     35145     VOBL  large_airport   \n",
       "4     26444     VAGO  large_airport   \n",
       "..      ...      ...            ...   \n",
       "332   46625  IN-0062  small_airport   \n",
       "333   46640  IN-0064  small_airport   \n",
       "334   46561  IN-0038       heliport   \n",
       "335  319166  IN-0101  small_airport   \n",
       "336   46557  IN-0034  small_airport   \n",
       "\n",
       "                                          name  latitude_deg  longitude_deg  \\\n",
       "0          Indira Gandhi International Airport     28.566500      77.103104   \n",
       "1    Chhatrapati Shivaji International Airport     19.088699      72.867897   \n",
       "2                Chennai International Airport     12.990005      80.169296   \n",
       "3             Kempegowda International Airport     13.197900      77.706299   \n",
       "4                    Goa International Airport     15.380800      73.831398   \n",
       "..                                         ...           ...            ...   \n",
       "332                            Shirpur Airport     21.323999      74.956734   \n",
       "333                           Umaria Air Field     23.532514      80.808220   \n",
       "334           Upper Tadong Indian Army Helipad     27.306717      88.599650   \n",
       "335                         Vanasthali Airport     26.407627      75.870128   \n",
       "336                        Vijay Nagar Airport     19.884100      73.840567   \n",
       "\n",
       "     elevation_ft iso_region   municipality  scheduled_service gps_code  \\\n",
       "0           777.0      IN-DL      New Delhi                  1     VIDP   \n",
       "1            39.0      IN-MM         Mumbai                  1     VABB   \n",
       "2            52.0      IN-TN        Chennai                  1     VOMM   \n",
       "3          3000.0      IN-KA      Bangalore                  1     VOBL   \n",
       "4           150.0      IN-GA  Vasco da Gama                  1     VOGO   \n",
       "..            ...        ...            ...                ...      ...   \n",
       "332           NaN      IN-MM        Shirpur                  0      NaN   \n",
       "333        1510.0      IN-MP         Umaria                  0      NaN   \n",
       "334           NaN      IN-SK   Upper Tadong                  0      NaN   \n",
       "335           NaN      IN-RJ     Vanasthali                  0      NaN   \n",
       "336           NaN      IN-MM    Vijay Nagar                  0      NaN   \n",
       "\n",
       "    iata_code local_code  year_built  year_tier Closed  \\\n",
       "0         DEL        NaN      1930.0     1950.0      n   \n",
       "1         BOM        NaN      1942.0     1950.0      n   \n",
       "2         MAA        NaN      1910.0     1950.0      n   \n",
       "3         BLR        NaN      2008.0     2010.0      n   \n",
       "4         GOI        NaN      1955.0     1955.0      n   \n",
       "..        ...        ...         ...        ...    ...   \n",
       "332       NaN        NaN         NaN        NaN      n   \n",
       "333       NaN        NaN         NaN        NaN      n   \n",
       "334       NaN        NaN         NaN        NaN      n   \n",
       "335       NaN        NaN         NaN        NaN      n   \n",
       "336       NaN        NaN         NaN        NaN      n   \n",
       "\n",
       "                                          home_link  \\\n",
       "0                    http://www.newdelhiairport.in/   \n",
       "1                               http://www.csia.in/   \n",
       "2                                               NaN   \n",
       "3    http://www.bengaluruairport.com/home/home.jspx   \n",
       "4                                               NaN   \n",
       "..                                              ...   \n",
       "332                                             NaN   \n",
       "333                                             NaN   \n",
       "334                                             NaN   \n",
       "335                                             NaN   \n",
       "336                                             NaN   \n",
       "\n",
       "                                        wikipedia_link  \\\n",
       "0    http://en.wikipedia.org/wiki/Indira_Gandhi_Int...   \n",
       "1    http://en.wikipedia.org/wiki/Chhatrapati_Shiva...   \n",
       "2    http://en.wikipedia.org/wiki/Chennai_Internati...   \n",
       "3    https://en.wikipedia.org/wiki/Kempegowda_Inter...   \n",
       "4         http://en.wikipedia.org/wiki/Dabolim_Airport   \n",
       "..                                                 ...   \n",
       "332                                                NaN   \n",
       "333                                                NaN   \n",
       "334                                                NaN   \n",
       "335                                                NaN   \n",
       "336                                                NaN   \n",
       "\n",
       "                                              keywords    score  \n",
       "0                              Palam Air Force Station    51475  \n",
       "1                  Bombay, Sahar International Airport  1014475  \n",
       "2                                                  NaN    51150  \n",
       "3                                                  NaN    51200  \n",
       "4    Goa Airport, Dabolim Navy Airbase, ________隷怄_...      875  \n",
       "..                                                 ...      ...  \n",
       "332                                     Shirpur, Dhule        0  \n",
       "333                                                NaN        0  \n",
       "334                                                NaN        0  \n",
       "335                                                NaN        0  \n",
       "336                                                NaN        0  \n",
       "\n",
       "[337 rows x 20 columns]"
      ]
     },
     "execution_count": 37,
     "metadata": {},
     "output_type": "execute_result"
    }
   ],
   "source": [
    "df"
   ]
  },
  {
   "cell_type": "code",
   "execution_count": null,
   "id": "d08a6729",
   "metadata": {},
   "outputs": [],
   "source": []
  },
  {
   "cell_type": "code",
   "execution_count": null,
   "id": "e5c42211",
   "metadata": {},
   "outputs": [],
   "source": []
  },
  {
   "cell_type": "code",
   "execution_count": null,
   "id": "d4a47f22",
   "metadata": {},
   "outputs": [],
   "source": []
  }
 ],
 "metadata": {
  "kernelspec": {
   "display_name": "Python 3 (ipykernel)",
   "language": "python",
   "name": "python3"
  },
  "language_info": {
   "codemirror_mode": {
    "name": "ipython",
    "version": 3
   },
   "file_extension": ".py",
   "mimetype": "text/x-python",
   "name": "python",
   "nbconvert_exporter": "python",
   "pygments_lexer": "ipython3",
   "version": "3.10.9"
  }
 },
 "nbformat": 4,
 "nbformat_minor": 5
}
