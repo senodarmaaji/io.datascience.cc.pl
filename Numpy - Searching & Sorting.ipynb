{
 "cells": [
  {
   "cell_type": "code",
   "execution_count": 1,
   "id": "3c14df23",
   "metadata": {},
   "outputs": [],
   "source": [
    "import numpy as np"
   ]
  },
  {
   "cell_type": "code",
   "execution_count": 2,
   "id": "9003467b",
   "metadata": {},
   "outputs": [],
   "source": [
    "arr = np.array([1, 2, 3, 4, 5, 4, 4])"
   ]
  },
  {
   "cell_type": "code",
   "execution_count": 3,
   "id": "42431b8d",
   "metadata": {},
   "outputs": [],
   "source": [
    "x = np.where(arr == 4)"
   ]
  },
  {
   "cell_type": "code",
   "execution_count": 4,
   "id": "1c34eb43",
   "metadata": {},
   "outputs": [
    {
     "name": "stdout",
     "output_type": "stream",
     "text": [
      "(array([3, 5, 6], dtype=int64),)\n"
     ]
    }
   ],
   "source": [
    "print(x)"
   ]
  },
  {
   "cell_type": "code",
   "execution_count": 5,
   "id": "1d9851ba",
   "metadata": {},
   "outputs": [],
   "source": [
    "import numpy as np"
   ]
  },
  {
   "cell_type": "code",
   "execution_count": 6,
   "id": "964694f3",
   "metadata": {},
   "outputs": [],
   "source": [
    "arr = np.array([1, 2, 3, 4, 5, 6, 7, 8])"
   ]
  },
  {
   "cell_type": "code",
   "execution_count": 7,
   "id": "602ae51d",
   "metadata": {},
   "outputs": [],
   "source": [
    "x = np.where(arr%2 == 0)"
   ]
  },
  {
   "cell_type": "code",
   "execution_count": 8,
   "id": "57a9c164",
   "metadata": {},
   "outputs": [
    {
     "name": "stdout",
     "output_type": "stream",
     "text": [
      "(array([1, 3, 5, 7], dtype=int64),)\n"
     ]
    }
   ],
   "source": [
    "print(x)"
   ]
  },
  {
   "cell_type": "markdown",
   "id": "e2793f7d",
   "metadata": {},
   "source": [
    "#SORT THE ARRAY"
   ]
  },
  {
   "cell_type": "code",
   "execution_count": 9,
   "id": "16d79c2e",
   "metadata": {},
   "outputs": [],
   "source": [
    "import numpy as np"
   ]
  },
  {
   "cell_type": "code",
   "execution_count": 10,
   "id": "a1a53578",
   "metadata": {},
   "outputs": [],
   "source": [
    "arr = np.array([3, 2, 0, 1])"
   ]
  },
  {
   "cell_type": "code",
   "execution_count": 11,
   "id": "b04450ce",
   "metadata": {},
   "outputs": [
    {
     "name": "stdout",
     "output_type": "stream",
     "text": [
      "[0 1 2 3]\n"
     ]
    }
   ],
   "source": [
    "print(np.sort(arr))"
   ]
  },
  {
   "cell_type": "code",
   "execution_count": 12,
   "id": "5895fa4e",
   "metadata": {},
   "outputs": [],
   "source": [
    "import numpy as np"
   ]
  },
  {
   "cell_type": "code",
   "execution_count": 13,
   "id": "cdec2227",
   "metadata": {},
   "outputs": [],
   "source": [
    "arr = np.array(['banana', 'cherry', 'apple'])"
   ]
  },
  {
   "cell_type": "code",
   "execution_count": 14,
   "id": "36324ee3",
   "metadata": {},
   "outputs": [
    {
     "name": "stdout",
     "output_type": "stream",
     "text": [
      "['apple' 'banana' 'cherry']\n"
     ]
    }
   ],
   "source": [
    "print(np.sort(arr))"
   ]
  },
  {
   "cell_type": "markdown",
   "id": "8b7fbbb9",
   "metadata": {},
   "source": [
    "#Lets Begin"
   ]
  },
  {
   "cell_type": "code",
   "execution_count": 16,
   "id": "2e124259",
   "metadata": {},
   "outputs": [],
   "source": [
    "import numpy as np"
   ]
  },
  {
   "cell_type": "code",
   "execution_count": 17,
   "id": "757eaad1",
   "metadata": {},
   "outputs": [],
   "source": [
    "a = np.array ([1,  2, 3, 3, 4, 5, 6, 5, 10, 20, 1])"
   ]
  },
  {
   "cell_type": "code",
   "execution_count": 18,
   "id": "9d7234e2",
   "metadata": {},
   "outputs": [],
   "source": [
    "x = np.where(a == 1)"
   ]
  },
  {
   "cell_type": "code",
   "execution_count": 19,
   "id": "48b27e8c",
   "metadata": {},
   "outputs": [
    {
     "data": {
      "text/plain": [
       "(array([ 0, 10], dtype=int64),)"
      ]
     },
     "execution_count": 19,
     "metadata": {},
     "output_type": "execute_result"
    }
   ],
   "source": [
    "x"
   ]
  },
  {
   "cell_type": "code",
   "execution_count": 21,
   "id": "3fe1b72a",
   "metadata": {},
   "outputs": [],
   "source": [
    "y = np.where(a == 4)"
   ]
  },
  {
   "cell_type": "code",
   "execution_count": 22,
   "id": "698e68c6",
   "metadata": {},
   "outputs": [
    {
     "data": {
      "text/plain": [
       "(array([4], dtype=int64),)"
      ]
     },
     "execution_count": 22,
     "metadata": {},
     "output_type": "execute_result"
    }
   ],
   "source": [
    "y"
   ]
  },
  {
   "cell_type": "code",
   "execution_count": 25,
   "id": "e95b3f2e",
   "metadata": {},
   "outputs": [],
   "source": [
    "ans = np.where(a%2 == 0)"
   ]
  },
  {
   "cell_type": "code",
   "execution_count": 26,
   "id": "477a199d",
   "metadata": {},
   "outputs": [
    {
     "data": {
      "text/plain": [
       "(array([1, 4, 6, 8, 9], dtype=int64),)"
      ]
     },
     "execution_count": 26,
     "metadata": {},
     "output_type": "execute_result"
    }
   ],
   "source": [
    "ans"
   ]
  },
  {
   "cell_type": "code",
   "execution_count": 27,
   "id": "f34fb75a",
   "metadata": {},
   "outputs": [
    {
     "data": {
      "text/plain": [
       "array([ 1,  1,  2,  3,  3,  4,  5,  5,  6, 10, 20])"
      ]
     },
     "execution_count": 27,
     "metadata": {},
     "output_type": "execute_result"
    }
   ],
   "source": [
    "np.sort (a)"
   ]
  },
  {
   "cell_type": "code",
   "execution_count": 28,
   "id": "977775e1",
   "metadata": {},
   "outputs": [],
   "source": [
    "a2 = np.array([44, 12, 90, 77, 55])"
   ]
  },
  {
   "cell_type": "code",
   "execution_count": 29,
   "id": "c3f0d2ac",
   "metadata": {},
   "outputs": [
    {
     "data": {
      "text/plain": [
       "array([12, 44, 55, 77, 90])"
      ]
     },
     "execution_count": 29,
     "metadata": {},
     "output_type": "execute_result"
    }
   ],
   "source": [
    "np.sort (a2)"
   ]
  },
  {
   "cell_type": "code",
   "execution_count": 30,
   "id": "4217e491",
   "metadata": {},
   "outputs": [],
   "source": [
    "a3 = np.array(['apel', 'pisang', 'anggur', 'melon', 'nangka'])"
   ]
  },
  {
   "cell_type": "code",
   "execution_count": 31,
   "id": "7c9922c0",
   "metadata": {},
   "outputs": [
    {
     "data": {
      "text/plain": [
       "array(['anggur', 'apel', 'melon', 'nangka', 'pisang'], dtype='<U6')"
      ]
     },
     "execution_count": 31,
     "metadata": {},
     "output_type": "execute_result"
    }
   ],
   "source": [
    "np.sort (a3)"
   ]
  },
  {
   "cell_type": "code",
   "execution_count": null,
   "id": "847e7b90",
   "metadata": {},
   "outputs": [],
   "source": []
  }
 ],
 "metadata": {
  "kernelspec": {
   "display_name": "Python 3 (ipykernel)",
   "language": "python",
   "name": "python3"
  },
  "language_info": {
   "codemirror_mode": {
    "name": "ipython",
    "version": 3
   },
   "file_extension": ".py",
   "mimetype": "text/x-python",
   "name": "python",
   "nbconvert_exporter": "python",
   "pygments_lexer": "ipython3",
   "version": "3.10.9"
  }
 },
 "nbformat": 4,
 "nbformat_minor": 5
}
