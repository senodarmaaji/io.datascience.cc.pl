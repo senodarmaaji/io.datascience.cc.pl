{
 "cells": [
  {
   "cell_type": "code",
   "execution_count": 1,
   "id": "6f9820ff",
   "metadata": {},
   "outputs": [],
   "source": [
    "import pandas as pd"
   ]
  },
  {
   "cell_type": "code",
   "execution_count": 2,
   "id": "57af3b7b",
   "metadata": {},
   "outputs": [],
   "source": [
    "a = [1, 7, 2]"
   ]
  },
  {
   "cell_type": "code",
   "execution_count": 4,
   "id": "40ff4e6d",
   "metadata": {},
   "outputs": [],
   "source": [
    "myvar = pd.Series(a)"
   ]
  },
  {
   "cell_type": "code",
   "execution_count": 5,
   "id": "b6f6e1cc",
   "metadata": {},
   "outputs": [
    {
     "name": "stdout",
     "output_type": "stream",
     "text": [
      "0    1\n",
      "1    7\n",
      "2    2\n",
      "dtype: int64\n"
     ]
    }
   ],
   "source": [
    "print(myvar)"
   ]
  },
  {
   "cell_type": "code",
   "execution_count": 6,
   "id": "7796443b",
   "metadata": {},
   "outputs": [],
   "source": [
    "import pandas as pd"
   ]
  },
  {
   "cell_type": "code",
   "execution_count": 8,
   "id": "ba228009",
   "metadata": {},
   "outputs": [],
   "source": [
    "sample = {\"day1\": 420, \"day2\": 380, \"day3\": 750}"
   ]
  },
  {
   "cell_type": "code",
   "execution_count": 9,
   "id": "e4e67000",
   "metadata": {},
   "outputs": [],
   "source": [
    "myvar = pd.Series(sample)"
   ]
  },
  {
   "cell_type": "code",
   "execution_count": 10,
   "id": "c636679b",
   "metadata": {},
   "outputs": [
    {
     "name": "stdout",
     "output_type": "stream",
     "text": [
      "day1    420\n",
      "day2    380\n",
      "day3    750\n",
      "dtype: int64\n"
     ]
    }
   ],
   "source": [
    "print(myvar)"
   ]
  },
  {
   "cell_type": "markdown",
   "id": "dcdd0dd1",
   "metadata": {},
   "source": [
    "Lets Begin"
   ]
  },
  {
   "cell_type": "code",
   "execution_count": 12,
   "id": "713f7e8e",
   "metadata": {},
   "outputs": [],
   "source": [
    "import pandas as pd"
   ]
  },
  {
   "cell_type": "code",
   "execution_count": 16,
   "id": "015db546",
   "metadata": {},
   "outputs": [],
   "source": [
    "l1 = [3, 6, 8, 10, 30, 77]"
   ]
  },
  {
   "cell_type": "code",
   "execution_count": 17,
   "id": "57f3ea6e",
   "metadata": {},
   "outputs": [],
   "source": [
    "s1 = pd.Series(l1)"
   ]
  },
  {
   "cell_type": "code",
   "execution_count": 18,
   "id": "c8537389",
   "metadata": {},
   "outputs": [
    {
     "data": {
      "text/plain": [
       "0     3\n",
       "1     6\n",
       "2     8\n",
       "3    10\n",
       "4    30\n",
       "5    77\n",
       "dtype: int64"
      ]
     },
     "execution_count": 18,
     "metadata": {},
     "output_type": "execute_result"
    }
   ],
   "source": [
    "s1"
   ]
  },
  {
   "cell_type": "code",
   "execution_count": 19,
   "id": "ca8c39ef",
   "metadata": {},
   "outputs": [],
   "source": [
    "d1 = {\"one\": 10, \"second\": 100, \"third\": 1000}"
   ]
  },
  {
   "cell_type": "code",
   "execution_count": 20,
   "id": "065c4b2f",
   "metadata": {},
   "outputs": [],
   "source": [
    "s2 = pd.Series(d1)"
   ]
  },
  {
   "cell_type": "code",
   "execution_count": 21,
   "id": "02f31498",
   "metadata": {},
   "outputs": [
    {
     "data": {
      "text/plain": [
       "one         10\n",
       "second     100\n",
       "third     1000\n",
       "dtype: int64"
      ]
     },
     "execution_count": 21,
     "metadata": {},
     "output_type": "execute_result"
    }
   ],
   "source": [
    "s2"
   ]
  },
  {
   "cell_type": "code",
   "execution_count": null,
   "id": "af44dd4f",
   "metadata": {},
   "outputs": [],
   "source": []
  }
 ],
 "metadata": {
  "kernelspec": {
   "display_name": "Python 3 (ipykernel)",
   "language": "python",
   "name": "python3"
  },
  "language_info": {
   "codemirror_mode": {
    "name": "ipython",
    "version": 3
   },
   "file_extension": ".py",
   "mimetype": "text/x-python",
   "name": "python",
   "nbconvert_exporter": "python",
   "pygments_lexer": "ipython3",
   "version": "3.10.9"
  }
 },
 "nbformat": 4,
 "nbformat_minor": 5
}
