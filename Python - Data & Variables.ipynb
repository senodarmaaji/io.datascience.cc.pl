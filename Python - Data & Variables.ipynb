{
 "cells": [
  {
   "cell_type": "markdown",
   "id": "fe784300",
   "metadata": {},
   "source": [
    "# Integer Variable"
   ]
  },
  {
   "cell_type": "code",
   "execution_count": 1,
   "id": "7f95641f",
   "metadata": {},
   "outputs": [],
   "source": [
    "age = 28"
   ]
  },
  {
   "cell_type": "code",
   "execution_count": 2,
   "id": "34ffd42b",
   "metadata": {},
   "outputs": [],
   "source": [
    "age1 = 85"
   ]
  },
  {
   "cell_type": "code",
   "execution_count": null,
   "id": "2e16edc3",
   "metadata": {},
   "outputs": [],
   "source": []
  },
  {
   "cell_type": "markdown",
   "id": "77d469d8",
   "metadata": {},
   "source": [
    "# String Variable"
   ]
  },
  {
   "cell_type": "code",
   "execution_count": 3,
   "id": "2c91f0d6",
   "metadata": {},
   "outputs": [],
   "source": [
    "name = \"Seno Darma Aji\""
   ]
  },
  {
   "cell_type": "code",
   "execution_count": null,
   "id": "4be33599",
   "metadata": {},
   "outputs": [],
   "source": []
  },
  {
   "cell_type": "markdown",
   "id": "64469e49",
   "metadata": {},
   "source": [
    "# List Variable"
   ]
  },
  {
   "cell_type": "code",
   "execution_count": 4,
   "id": "646cb5cc",
   "metadata": {},
   "outputs": [],
   "source": [
    "numbers = [1, 2, 3, 4, 5]"
   ]
  },
  {
   "cell_type": "code",
   "execution_count": null,
   "id": "395f2f4d",
   "metadata": {},
   "outputs": [],
   "source": []
  },
  {
   "cell_type": "markdown",
   "id": "ea2e50a8",
   "metadata": {},
   "source": [
    "# Dictionary Variable"
   ]
  },
  {
   "cell_type": "code",
   "execution_count": 5,
   "id": "cfe6849c",
   "metadata": {},
   "outputs": [],
   "source": [
    "person = {'name': 'Seno Darma Aji', 'age': 28}"
   ]
  },
  {
   "cell_type": "code",
   "execution_count": null,
   "id": "eb138338",
   "metadata": {},
   "outputs": [],
   "source": []
  },
  {
   "cell_type": "code",
   "execution_count": 6,
   "id": "9f7777a8",
   "metadata": {},
   "outputs": [
    {
     "name": "stdout",
     "output_type": "stream",
     "text": [
      "Seno Darma Aji\n"
     ]
    }
   ],
   "source": [
    "print(name)"
   ]
  },
  {
   "cell_type": "code",
   "execution_count": null,
   "id": "ed385a5f",
   "metadata": {},
   "outputs": [],
   "source": []
  }
 ],
 "metadata": {
  "kernelspec": {
   "display_name": "Python 3 (ipykernel)",
   "language": "python",
   "name": "python3"
  },
  "language_info": {
   "codemirror_mode": {
    "name": "ipython",
    "version": 3
   },
   "file_extension": ".py",
   "mimetype": "text/x-python",
   "name": "python",
   "nbconvert_exporter": "python",
   "pygments_lexer": "ipython3",
   "version": "3.10.9"
  }
 },
 "nbformat": 4,
 "nbformat_minor": 5
}
