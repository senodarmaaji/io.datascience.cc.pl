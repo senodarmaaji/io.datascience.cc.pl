{
 "cells": [
  {
   "cell_type": "code",
   "execution_count": 1,
   "id": "4396ca14",
   "metadata": {},
   "outputs": [],
   "source": [
    "x = 5"
   ]
  },
  {
   "cell_type": "code",
   "execution_count": 4,
   "id": "db568644",
   "metadata": {},
   "outputs": [
    {
     "name": "stdout",
     "output_type": "stream",
     "text": [
      "x is less than or equal to 10\n"
     ]
    }
   ],
   "source": [
    "if x > 10:\n",
    "    print (\"x is greater than 10\")\n",
    "else:\n",
    "    print(\"x is less than or equal to 10\")"
   ]
  },
  {
   "cell_type": "code",
   "execution_count": null,
   "id": "6d5caef7",
   "metadata": {},
   "outputs": [],
   "source": []
  },
  {
   "cell_type": "code",
   "execution_count": 5,
   "id": "6b9c390a",
   "metadata": {},
   "outputs": [],
   "source": [
    "voting_age = 27"
   ]
  },
  {
   "cell_type": "code",
   "execution_count": 6,
   "id": "cc3dbe11",
   "metadata": {},
   "outputs": [
    {
     "name": "stdout",
     "output_type": "stream",
     "text": [
      "Enter Your Age20\n"
     ]
    }
   ],
   "source": [
    "user_age = int(input(\"Enter Your Age\"))"
   ]
  },
  {
   "cell_type": "code",
   "execution_count": 7,
   "id": "0afbe37b",
   "metadata": {},
   "outputs": [
    {
     "name": "stdout",
     "output_type": "stream",
     "text": [
      "Not Eligible\n"
     ]
    }
   ],
   "source": [
    "if (user_age>voting_age):\n",
    "    print(\"Eligible\")\n",
    "else:\n",
    "    print(\"Not Eligible\")"
   ]
  },
  {
   "cell_type": "code",
   "execution_count": null,
   "id": "139bcf45",
   "metadata": {},
   "outputs": [],
   "source": []
  }
 ],
 "metadata": {
  "kernelspec": {
   "display_name": "Python 3 (ipykernel)",
   "language": "python",
   "name": "python3"
  },
  "language_info": {
   "codemirror_mode": {
    "name": "ipython",
    "version": 3
   },
   "file_extension": ".py",
   "mimetype": "text/x-python",
   "name": "python",
   "nbconvert_exporter": "python",
   "pygments_lexer": "ipython3",
   "version": "3.10.9"
  }
 },
 "nbformat": 4,
 "nbformat_minor": 5
}
